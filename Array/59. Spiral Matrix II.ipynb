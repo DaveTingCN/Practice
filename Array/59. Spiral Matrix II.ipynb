{
 "cells": [
  {
   "cell_type": "markdown",
   "metadata": {},
   "source": [
    "# Q59 Spiral Matrix II\n",
    "\n",
    "https://leetcode.com/problems/spiral-matrix-ii/"
   ]
  },
  {
   "cell_type": "markdown",
   "metadata": {},
   "source": [
    "## 1. Takeaways"
   ]
  },
  {
   "cell_type": "markdown",
   "metadata": {},
   "source": [
    "### a. Uniqueness of List Creation\n",
    "\n",
    "[Link1](https://stackoverflow.com/questions/13347559/create-empty-matrix-python)"
   ]
  },
  {
   "cell_type": "code",
   "execution_count": 31,
   "metadata": {},
   "outputs": [
    {
     "data": {
      "text/plain": [
       "[[1, 0], [1, 0]]"
      ]
     },
     "execution_count": 31,
     "metadata": {},
     "output_type": "execute_result"
    },
    {
     "data": {
      "text/plain": [
       "[[1, 0], [0, 0]]"
      ]
     },
     "execution_count": 31,
     "metadata": {},
     "output_type": "execute_result"
    }
   ],
   "source": [
    "l1 = [[0] * 2] * 2  # This method will create a list with shared memory.\n",
    "l2 = [[0 for _ in range(2)] for _ in range(2)]  # This method will create unique element.\n",
    "\n",
    "l1[0][0] = 1\n",
    "l2[0][0] = 1\n",
    "\n",
    "l1\n",
    "l2"
   ]
  },
  {
   "cell_type": "markdown",
   "metadata": {},
   "source": [
    "## 2. My Answer"
   ]
  },
  {
   "cell_type": "markdown",
   "metadata": {},
   "source": [
    "Intuitively, reach a turning point, change direction, reach a turing point, change direction...\n",
    "\n",
    "- Runtime: 24 ms, 94.10%\n",
    "- Memory Usage: 12.8 MB, 100.00%"
   ]
  },
  {
   "cell_type": "code",
   "execution_count": 40,
   "metadata": {},
   "outputs": [],
   "source": [
    "class Solution:\n",
    "    def generateMatrix(self, n: int):\n",
    "            matrix = [[0 for _ in range(n)] for _ in range(n)]\n",
    "            idx, jdx, direction = 0, 0, 1\n",
    "            right, bottom, left, upper = n - 1, n - 1, 0, 0\n",
    "            for i in range(n ** 2):\n",
    "                matrix[jdx][idx] = i + 1\n",
    "                if (direction != 1) & ((idx, jdx) == (left, upper)):\n",
    "                    direction = 1\n",
    "                    left += 1\n",
    "                if (direction != 2) & ((idx, jdx) == (right, upper)):\n",
    "                    direction = 2\n",
    "                    upper += 1\n",
    "                if (direction != 3) & ((idx, jdx) == (right, bottom)):\n",
    "                    direction = 3\n",
    "                    right -= 1\n",
    "                if (direction != 4) & ((idx, jdx) == (left, bottom)):\n",
    "                    direction = 4\n",
    "                    bottom -= 1\n",
    "                if direction == 1:\n",
    "                    idx += 1\n",
    "                if direction == 2:\n",
    "                    jdx += 1\n",
    "                if direction == 3:\n",
    "                    idx -= 1\n",
    "                if direction == 4:\n",
    "                    jdx -= 1\n",
    "            return matrix"
   ]
  },
  {
   "cell_type": "code",
   "execution_count": 41,
   "metadata": {},
   "outputs": [
    {
     "data": {
      "text/plain": [
       "[[1, 2, 3], [8, 9, 4], [7, 6, 5]]"
      ]
     },
     "execution_count": 41,
     "metadata": {},
     "output_type": "execute_result"
    }
   ],
   "source": [
    "s = Solution()\n",
    "s.generateMatrix(3)"
   ]
  },
  {
   "cell_type": "code",
   "execution_count": null,
   "metadata": {},
   "outputs": [],
   "source": []
  }
 ],
 "metadata": {
  "kernelspec": {
   "display_name": "Python 3",
   "language": "python",
   "name": "python3"
  },
  "language_info": {
   "codemirror_mode": {
    "name": "ipython",
    "version": 3
   },
   "file_extension": ".py",
   "mimetype": "text/x-python",
   "name": "python",
   "nbconvert_exporter": "python",
   "pygments_lexer": "ipython3",
   "version": "3.7.1"
  }
 },
 "nbformat": 4,
 "nbformat_minor": 4
}
